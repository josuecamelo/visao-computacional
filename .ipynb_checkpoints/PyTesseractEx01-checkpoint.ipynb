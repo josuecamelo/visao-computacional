{
 "cells": [
  {
   "cell_type": "code",
   "execution_count": 4,
   "id": "303b3032",
   "metadata": {},
   "outputs": [],
   "source": [
    "import cv2\n",
    "import pytesseract #pip install pytesseract"
   ]
  },
  {
   "cell_type": "code",
   "execution_count": 6,
   "id": "0dd3d06e",
   "metadata": {},
   "outputs": [],
   "source": [
    "img = cv2.imread(\"D:/ProjetosVisaoComputacional/skew_normal.PNG\")"
   ]
  },
  {
   "cell_type": "code",
   "execution_count": 8,
   "id": "1105f394",
   "metadata": {},
   "outputs": [],
   "source": [
    "cv2.imshow(\"img\", img)"
   ]
  },
  {
   "cell_type": "code",
   "execution_count": 9,
   "id": "8f66929c",
   "metadata": {},
   "outputs": [
    {
     "data": {
      "text/plain": [
       "-1"
      ]
     },
     "execution_count": 9,
     "metadata": {},
     "output_type": "execute_result"
    }
   ],
   "source": [
    "cv2.waitKey(0)"
   ]
  },
  {
   "cell_type": "code",
   "execution_count": null,
   "id": "7e89f05c",
   "metadata": {},
   "outputs": [],
   "source": [
    "pytesseract.pytesseract.tesseract_cmd=r\"C:\\Program Files\\Tesseract-OCR\\tesseract.exe\""
   ]
  },
  {
   "cell_type": "code",
   "execution_count": null,
   "id": "d260aa80",
   "metadata": {},
   "outputs": [],
   "source": [
    "text = pytesseract.image_to_string(img)"
   ]
  },
  {
   "cell_type": "code",
   "execution_count": null,
   "id": "e885f425",
   "metadata": {},
   "outputs": [],
   "source": [
    "print(text)"
   ]
  }
 ],
 "metadata": {
  "kernelspec": {
   "display_name": "Python 3 (ipykernel)",
   "language": "python",
   "name": "python3"
  },
  "language_info": {
   "codemirror_mode": {
    "name": "ipython",
    "version": 3
   },
   "file_extension": ".py",
   "mimetype": "text/x-python",
   "name": "python",
   "nbconvert_exporter": "python",
   "pygments_lexer": "ipython3",
   "version": "3.8.5"
  }
 },
 "nbformat": 4,
 "nbformat_minor": 5
}
