{
 "cells": [
  {
   "cell_type": "code",
   "execution_count": 9,
   "id": "df82bc46",
   "metadata": {},
   "outputs": [],
   "source": [
    "import cv2\n",
    "import numpy as np"
   ]
  },
  {
   "cell_type": "code",
   "execution_count": 10,
   "id": "7df47877",
   "metadata": {},
   "outputs": [],
   "source": [
    "img = cv2.imread('D:/ProjetosVisaoComputacional/tr.PNG')"
   ]
  },
  {
   "cell_type": "code",
   "execution_count": 11,
   "id": "54fddc56",
   "metadata": {},
   "outputs": [],
   "source": [
    "# Download the CRNN model and Load it\n",
    "model = cv2.dnn.readNet('D:/ProjetosVisaoComputacional/crnn.onnx')"
   ]
  },
  {
   "cell_type": "code",
   "execution_count": 12,
   "id": "0a7739f6",
   "metadata": {},
   "outputs": [],
   "source": [
    "# ## Prepare the image\n",
    "img_gray = cv2.cvtColor(img, cv2.COLOR_BGR2GRAY)\n",
    "\n",
    "blob = cv2.dnn.blobFromImage(img_gray, scalefactor=1/127.5, size=(100,32), mean=127.5)"
   ]
  },
  {
   "cell_type": "code",
   "execution_count": null,
   "id": "50764a86",
   "metadata": {},
   "outputs": [],
   "source": [
    "# Pass the image to network and extract per-timestep scores\n",
    "model.setInput(blob)\n",
    "\n",
    "scores = model.forward()\n",
    "print(scores.shape)\n",
    "\n",
    "alphabet_set = \"0123456789abcdefghijklmnopqrstuvwxyz\"\n",
    "blank = '-'\n",
    "\n",
    "char_set = blank + alphabet_set"
   ]
  },
  {
   "cell_type": "code",
   "execution_count": null,
   "id": "ef785f8b",
   "metadata": {},
   "outputs": [],
   "source": [
    "# Decode the scores to text\n",
    "def most_likely(scores, char_set):\n",
    "    text = \"\"\n",
    "    for i in range(scores.shape[0]):\n",
    "        c = np.argmax(scores[i][0])\n",
    "        text += char_set[c]\n",
    "    return text\n",
    "\n",
    "\n",
    "def map_rule(text):\n",
    "    char_list = []\n",
    "    for i in range(len(text)):\n",
    "        if i == 0:\n",
    "            if text[i] != '-':\n",
    "                char_list.append(text[i])\n",
    "        else:\n",
    "            if text[i] != '-' and (not (text[i] == text[i - 1])):\n",
    "                char_list.append(text[i])\n",
    "    return ''.join(char_list)\n",
    "\n",
    "\n",
    "def best_path(scores, char_set):\n",
    "    text = most_likely(scores, char_set)\n",
    "    final_text = map_rule(text)\n",
    "    return final_text\n",
    "\n",
    "\n",
    "out = best_path(scores, char_set)\n",
    "print(out)\n"
   ]
  }
 ],
 "metadata": {
  "kernelspec": {
   "display_name": "Python 3 (ipykernel)",
   "language": "python",
   "name": "python3"
  },
  "language_info": {
   "codemirror_mode": {
    "name": "ipython",
    "version": 3
   },
   "file_extension": ".py",
   "mimetype": "text/x-python",
   "name": "python",
   "nbconvert_exporter": "python",
   "pygments_lexer": "ipython3",
   "version": "3.8.5"
  }
 },
 "nbformat": 4,
 "nbformat_minor": 5
}
