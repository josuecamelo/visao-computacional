{
 "cells": [
  {
   "cell_type": "code",
   "execution_count": 1,
   "id": "869d5e5f",
   "metadata": {},
   "outputs": [],
   "source": [
    "import cv2\n",
    "import pytesseract\n",
    "import numpy as np\n",
    "from imutils.object_detection import non_max_suppression"
   ]
  },
  {
   "cell_type": "code",
   "execution_count": 2,
   "id": "b9fc2474",
   "metadata": {},
   "outputs": [],
   "source": [
    "img = cv2.imread('D:/ProjetosVisaoComputacional/OCR_LNP.PNG')"
   ]
  },
  {
   "cell_type": "code",
   "execution_count": 3,
   "id": "75df6db7",
   "metadata": {},
   "outputs": [],
   "source": [
    "model = cv2.dnn.readNet('D:/ProjetosVisaoComputacional/frozen_east_text_detection.pb')"
   ]
  },
  {
   "cell_type": "code",
   "execution_count": 4,
   "id": "5ef3da84",
   "metadata": {},
   "outputs": [
    {
     "name": "stdout",
     "output_type": "stream",
     "text": [
      "480 352\n",
      "1.025 1.0227272727272727\n"
     ]
    }
   ],
   "source": [
    "## -------------  Prepare the image  ----------------\n",
    "# use multiple of 32 to set the new img shape\n",
    "height, width, _ = img.shape\n",
    "new_height = (height//32)*32\n",
    "new_width = (width//32)*32\n",
    "print(new_height, new_width)\n",
    "\n",
    "# get the ratio change in width and height\n",
    "h_ratio = height/new_height\n",
    "w_ratio = width/new_width\n",
    "print(h_ratio, w_ratio)\n",
    "\n",
    "blob = cv2.dnn.blobFromImage(img, 1, (new_width, new_height),(123.68, 116.78, 103.94), True, False)"
   ]
  },
  {
   "cell_type": "code",
   "execution_count": 5,
   "id": "9b6f927c",
   "metadata": {},
   "outputs": [],
   "source": [
    "## -------------  Forward Propagation  -------------\n",
    "model.setInput(blob)\n",
    "(geometry, scores) = model.forward(model.getUnconnectedOutLayersNames())"
   ]
  },
  {
   "cell_type": "code",
   "execution_count": 6,
   "id": "d159a020",
   "metadata": {},
   "outputs": [],
   "source": [
    "## -------------   Post-Processing  ----------------\n",
    "rectangles = []\n",
    "confidence_score = []\n",
    "for i in range(geometry.shape[2]):\n",
    "    for j in range(0, geometry.shape[3]):\n",
    "        \n",
    "        if scores[0][0][i][j] < 0.1:\n",
    "            continue\n",
    "            \n",
    "        bottom_x = int(j*4 + geometry[0][1][i][j])\n",
    "        bottom_y = int(i*4 + geometry[0][2][i][j])\n",
    "        \n",
    "\n",
    "        top_x = int(j*4 - geometry[0][3][i][j])\n",
    "        top_y = int(i*4 - geometry[0][0][i][j])\n",
    "        \n",
    "        rectangles.append((top_x, top_y, bottom_x, bottom_y))\n",
    "        confidence_score.append(float(scores[0][0][i][j]))"
   ]
  },
  {
   "cell_type": "code",
   "execution_count": 7,
   "id": "6169e806",
   "metadata": {},
   "outputs": [],
   "source": [
    "# use Non-max suppression to get the required rectangles\n",
    "fin_boxes = non_max_suppression(np.array(rectangles), probs=confidence_score, overlapThresh=0.5)"
   ]
  },
  {
   "cell_type": "code",
   "execution_count": 8,
   "id": "06e3d102",
   "metadata": {},
   "outputs": [],
   "source": [
    "## --------------- Tell Pytesseract the path of Tesseract.exe -------------\n",
    "pytesseract.pytesseract.tesseract_cmd = r'C:\\Program Files\\Tesseract-OCR\\tesseract.exe'"
   ]
  },
  {
   "cell_type": "code",
   "execution_count": 10,
   "id": "a71d867b",
   "metadata": {},
   "outputs": [
    {
     "data": {
      "text/plain": [
       "-1"
      ]
     },
     "execution_count": 10,
     "metadata": {},
     "output_type": "execute_result"
    }
   ],
   "source": [
    "## ---------------  Recognize the text using Pytesseract in each segment -----------\n",
    "img_copy = img.copy()\n",
    "for (x1, y1, x2, y2) in fin_boxes:\n",
    "\n",
    "    x1 = int(x1 * w_ratio)\n",
    "    y1 = int(y1 * h_ratio)\n",
    "    x2 = int(x2 * w_ratio)\n",
    "    y2 = int(y2 * h_ratio)\n",
    "    \n",
    "    segment = img[y1:y2+4, x1:x2+2, :]\n",
    "    \n",
    "    segment_gray = cv2.cvtColor(segment, cv2.COLOR_BGR2GRAY)\n",
    "    ret, thresh = cv2.threshold(segment_gray, 0, 255, cv2.THRESH_BINARY+cv2.THRESH_OTSU)\n",
    "\n",
    "    text = pytesseract.image_to_string(thresh, config=r\"--psm 8\")\n",
    "\n",
    "    cv2.rectangle(img_copy, (x1, y1), (x2, y2), (0, 255, 0), 2)\n",
    "    cv2.putText(img_copy, text.strip(), (x1,y1-2), cv2.FONT_HERSHEY_COMPLEX, 0.7, (0,0,255),2)\n",
    "\n",
    "cv2.imshow(\"Text Detection\", img_copy)\n",
    "cv2.waitKey(0)"
   ]
  },
  {
   "cell_type": "code",
   "execution_count": null,
   "id": "6f4ac285",
   "metadata": {},
   "outputs": [],
   "source": []
  }
 ],
 "metadata": {
  "kernelspec": {
   "display_name": "Python 3 (ipykernel)",
   "language": "python",
   "name": "python3"
  },
  "language_info": {
   "codemirror_mode": {
    "name": "ipython",
    "version": 3
   },
   "file_extension": ".py",
   "mimetype": "text/x-python",
   "name": "python",
   "nbconvert_exporter": "python",
   "pygments_lexer": "ipython3",
   "version": "3.8.5"
  }
 },
 "nbformat": 4,
 "nbformat_minor": 5
}
