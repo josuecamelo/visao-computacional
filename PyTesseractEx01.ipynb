{
 "cells": [
  {
   "cell_type": "code",
   "execution_count": 41,
   "id": "5657efab",
   "metadata": {},
   "outputs": [],
   "source": [
    "import cv2\n",
    "import pytesseract #pip install pytesseract"
   ]
  },
  {
   "cell_type": "code",
   "execution_count": 42,
   "id": "8e215678",
   "metadata": {},
   "outputs": [],
   "source": [
    "img = cv2.imread(\"D:/ProjetosVisaoComputacional/skew_normal.PNG\")"
   ]
  },
  {
   "cell_type": "code",
   "execution_count": 43,
   "id": "e1ca8a53",
   "metadata": {},
   "outputs": [],
   "source": [
    "cv2.imshow(\"img\", img)"
   ]
  },
  {
   "cell_type": "code",
   "execution_count": 44,
   "id": "60824a9e",
   "metadata": {},
   "outputs": [
    {
     "data": {
      "text/plain": [
       "-1"
      ]
     },
     "execution_count": 44,
     "metadata": {},
     "output_type": "execute_result"
    }
   ],
   "source": [
    "cv2.waitKey(0)"
   ]
  },
  {
   "cell_type": "code",
   "execution_count": 45,
   "id": "95422907",
   "metadata": {},
   "outputs": [],
   "source": [
    "pytesseract.pytesseract.tesseract_cmd=r\"C:\\Program Files\\Tesseract-OCR\\tesseract.exe\""
   ]
  },
  {
   "cell_type": "code",
   "execution_count": 46,
   "id": "8243bf7d",
   "metadata": {},
   "outputs": [],
   "source": [
    "text = pytesseract.image_to_string(img)"
   ]
  },
  {
   "cell_type": "code",
   "execution_count": 47,
   "id": "1d0fdf32",
   "metadata": {},
   "outputs": [
    {
     "name": "stdout",
     "output_type": "stream",
     "text": [
      "5.3. Training Data\n",
      "\n",
      "Since the classifier is able to recognize damaged\n",
      "characters easily, the classifier was not traimed on\n",
      "damaged characters. In fact, the classifier was trained\n",
      "on a mere 20 samples of 94 characters from 8 fonts in a\n",
      "single size, but with 4 attributes (normal, bold, italic,\n",
      "bold italic), making a total of 60160 traming samples.\n",
      "This is a significant contrast to other published\n",
      "classifiers, such as the Calera classifier with more than\n",
      "a million samples [9], and Baird’s 100-font classifier\n",
      "[10] with 1175000 trammg samples.\n",
      "\n",
      "6. Linguistic Analysis\n",
      "\n",
      "Tesseract contams relatively little limguistic\n",
      "analysis. Whenever the word recognition module is\n",
      "considering a new segmentation, the linguistic module\n",
      "(mis-named the permuter) chooses the best available\n",
      "word string in each of the following categories: Top\n",
      "frequent word, Top dictionary word, Top numeric\n",
      "word, Top UPPER case word, Top lower case word\n",
      "(with optional initial upper), Top classifier choice\n",
      "word. The final decision for a given segmentation is\n",
      "\f",
      "\n"
     ]
    }
   ],
   "source": [
    "print(text)"
   ]
  },
  {
   "cell_type": "code",
   "execution_count": null,
   "id": "574f1df6",
   "metadata": {},
   "outputs": [],
   "source": []
  }
 ],
 "metadata": {
  "kernelspec": {
   "display_name": "Python 3 (ipykernel)",
   "language": "python",
   "name": "python3"
  },
  "language_info": {
   "codemirror_mode": {
    "name": "ipython",
    "version": 3
   },
   "file_extension": ".py",
   "mimetype": "text/x-python",
   "name": "python",
   "nbconvert_exporter": "python",
   "pygments_lexer": "ipython3",
   "version": "3.8.5"
  }
 },
 "nbformat": 4,
 "nbformat_minor": 5
}
