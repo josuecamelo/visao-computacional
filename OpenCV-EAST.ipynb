{
 "cells": [
  {
   "cell_type": "code",
   "execution_count": 5,
   "id": "3a462a14",
   "metadata": {},
   "outputs": [],
   "source": [
    "import cv2\n",
    "import numpy as np\n",
    "from imutils.object_detection import non_max_suppression #pip install imutils\n"
   ]
  },
  {
   "cell_type": "code",
   "execution_count": 6,
   "id": "7e139152",
   "metadata": {},
   "outputs": [],
   "source": [
    "img = cv2.imread('D:/ProjetosVisaoComputacional/OCR_LNP.PNG')"
   ]
  },
  {
   "cell_type": "code",
   "execution_count": 7,
   "id": "3e863a33",
   "metadata": {},
   "outputs": [],
   "source": [
    "## -------------  Load the pre-trained models ---------------\n",
    "model = cv2.dnn.readNet('D:/ProjetosVisaoComputacional/frozen_east_text_detection.pb')\n",
    "model1 = cv2.dnn.readNet('D:/ProjetosVisaoComputacional/crnn.onnx')"
   ]
  },
  {
   "cell_type": "code",
   "execution_count": 8,
   "id": "3621f612",
   "metadata": {},
   "outputs": [
    {
     "name": "stdout",
     "output_type": "stream",
     "text": [
      "480 352\n"
     ]
    }
   ],
   "source": [
    "## -------------  Prepare the image  ----------------\n",
    "# use multiple of 32 to set the new img shape\n",
    "height, width, _ = img.shape\n",
    "new_height = (height//32)*32\n",
    "new_width = (width//32)*32\n",
    "print(new_height, new_width)"
   ]
  },
  {
   "cell_type": "code",
   "execution_count": 9,
   "id": "fe1ccd02",
   "metadata": {},
   "outputs": [
    {
     "name": "stdout",
     "output_type": "stream",
     "text": [
      "1.025 1.0227272727272727\n"
     ]
    }
   ],
   "source": [
    "# get the ratio change in width and height\n",
    "h_ratio = height/new_height\n",
    "w_ratio = width/new_width\n",
    "print(h_ratio, w_ratio)\n",
    "\n",
    "blob = cv2.dnn.blobFromImage(img, 1, (new_width, new_height),(123.68, 116.78, 103.94), True, False)"
   ]
  },
  {
   "cell_type": "code",
   "execution_count": 10,
   "id": "dd754338",
   "metadata": {},
   "outputs": [],
   "source": [
    "## -------------  Forward Propagation  -------------\n",
    "model.setInput(blob)\n",
    "(geometry, scores) = model.forward(model.getUnconnectedOutLayersNames())"
   ]
  },
  {
   "cell_type": "code",
   "execution_count": 11,
   "id": "98386e49",
   "metadata": {},
   "outputs": [],
   "source": [
    "## -------------   Post-Processing  ----------------\n",
    "rectangles = []\n",
    "confidence_score = []\n",
    "for i in range(geometry.shape[2]):\n",
    "    for j in range(0, geometry.shape[3]):\n",
    "        \n",
    "        if scores[0][0][i][j] < 0.1:\n",
    "            continue\n",
    "            \n",
    "        bottom_x = int(j*4 + geometry[0][1][i][j])\n",
    "        bottom_y = int(i*4 + geometry[0][2][i][j])\n",
    "        \n",
    "\n",
    "        top_x = int(j*4 - geometry[0][3][i][j])\n",
    "        top_y = int(i*4 - geometry[0][0][i][j])\n",
    "        \n",
    "        rectangles.append((top_x, top_y, bottom_x, bottom_y))\n",
    "        confidence_score.append(float(scores[0][0][i][j]))\n",
    "\t\t\n",
    "\t\t\n",
    "# use Non-max suppression to get the required rectangles\n",
    "fin_boxes = non_max_suppression(np.array(rectangles), probs=confidence_score, overlapThresh=0.5)"
   ]
  },
  {
   "cell_type": "code",
   "execution_count": 12,
   "id": "931b7276",
   "metadata": {},
   "outputs": [],
   "source": [
    "## --------------- Load the CRNN decoding functions -------------\n",
    "def most_likely(scores, char_set):\n",
    "    text = \"\"\n",
    "    for i in range(scores.shape[0]):\n",
    "        c = np.argmax(scores[i][0])\n",
    "        text += char_set[c]\n",
    "    return text\n",
    "\n",
    "def map_rule(text):\n",
    "    char_list = []\n",
    "    for i in range(len(text)):\n",
    "        if i == 0:\n",
    "            if text[i] != '-':\n",
    "                char_list.append(text[i])\n",
    "        else:\n",
    "            if text[i] != '-' and (not (text[i] == text[i - 1])):\n",
    "                char_list.append(text[i])\n",
    "    return ''.join(char_list)\n",
    "\n",
    "def best_path(scores, char_set):\n",
    "    text = most_likely(scores, char_set)\n",
    "    final_text = map_rule(text)\n",
    "    return final_text\n",
    "\t\n",
    "\n",
    "alphabet_set = \"0123456789abcdefghijklmnopqrstuvwxyz\"\n",
    "blank = '-'\n",
    "\n",
    "char_set = blank + alphabet_set"
   ]
  },
  {
   "cell_type": "code",
   "execution_count": 13,
   "id": "0f2e7ad7",
   "metadata": {},
   "outputs": [
    {
     "data": {
      "text/plain": [
       "-1"
      ]
     },
     "execution_count": 13,
     "metadata": {},
     "output_type": "execute_result"
    }
   ],
   "source": [
    "## ---------------  Recognize the text using CRNN in each segment -----------\n",
    "img_copy = img.copy()\n",
    "for (x1, y1, x2, y2) in fin_boxes:\n",
    "\n",
    "    x1 = int(x1 * w_ratio)\n",
    "    y1 = int(y1 * h_ratio)\n",
    "    x2 = int(x2 * w_ratio)\n",
    "    y2 = int(y2 * h_ratio)\n",
    "    \n",
    "    segment = img[y1:y2, x1:x2, :]\n",
    "    \n",
    "    segment_gray = cv2.cvtColor(segment, cv2.COLOR_BGR2GRAY)\n",
    "    blob = cv2.dnn.blobFromImage(segment_gray, scalefactor=1/127.5, size=(100,32), mean=127.5)\n",
    "    \n",
    "    model1.setInput(blob)\n",
    "    scores = model1.forward()\n",
    "    text = best_path(scores, char_set)\n",
    "\n",
    "    cv2.rectangle(img_copy, (x1, y1), (x2, y2), (0, 255, 0), 2)\n",
    "    cv2.putText(img_copy, text.strip(), (x1,y1-2), cv2.FONT_HERSHEY_COMPLEX, 0.7, (0,0,255),2)\n",
    "\n",
    "cv2.imshow(\"Text Detection\", img_copy)\n",
    "cv2.waitKey(0)"
   ]
  },
  {
   "cell_type": "code",
   "execution_count": null,
   "id": "cce4cc0e",
   "metadata": {},
   "outputs": [],
   "source": []
  }
 ],
 "metadata": {
  "kernelspec": {
   "display_name": "Python 3 (ipykernel)",
   "language": "python",
   "name": "python3"
  },
  "language_info": {
   "codemirror_mode": {
    "name": "ipython",
    "version": 3
   },
   "file_extension": ".py",
   "mimetype": "text/x-python",
   "name": "python",
   "nbconvert_exporter": "python",
   "pygments_lexer": "ipython3",
   "version": "3.8.5"
  }
 },
 "nbformat": 4,
 "nbformat_minor": 5
}
